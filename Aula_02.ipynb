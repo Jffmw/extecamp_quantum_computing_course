{
 "cells": [
  {
   "cell_type": "markdown",
   "id": "2ab141ad",
   "metadata": {},
   "source": [
    "# Computação Quântica\n",
    "## Aula 2"
   ]
  },
  {
   "cell_type": "markdown",
   "id": "cd0230d6",
   "metadata": {},
   "source": [
    "### Matrizes"
   ]
  },
  {
   "cell_type": "code",
   "execution_count": 3,
   "id": "123ecb46",
   "metadata": {},
   "outputs": [
    {
     "name": "stdout",
     "output_type": "stream",
     "text": [
      "[0, 1]\n",
      "[3, 4]\n",
      "# andando linha por linha\n",
      "0 1 \n",
      "3 4 \n",
      "fim da matriz\n",
      "# andando coluna por coluna\n",
      "0 3 \n",
      "1 4 \n",
      "fim da matriz\n"
     ]
    }
   ],
   "source": [
    "# Testes de matrizes\n",
    "M = [[0,1],[3,4]]\n",
    "for i in M:\n",
    "    print(i)\n",
    "print(\"# andando linha por linha\")\n",
    "for i in range(len(M)):\n",
    "    for j in range(len(M[0])):\n",
    "        print(M[i][j], end=' ')\n",
    "    print()\n",
    "print(\"fim da matriz\")\n",
    "print(\"# andando coluna por coluna\")\n",
    "for i in range(len(M)):\n",
    "    for j in range(len(M[0])):\n",
    "        print(M[j][i], end=\" \")\n",
    "    print()\n",
    "print(\"fim da matriz\")"
   ]
  },
  {
   "cell_type": "markdown",
   "id": "4c29b76a",
   "metadata": {},
   "source": [
    "#### Definição de matrizes com a biblioteca numpy"
   ]
  },
  {
   "cell_type": "code",
   "execution_count": 4,
   "id": "f773316b",
   "metadata": {},
   "outputs": [
    {
     "name": "stdout",
     "output_type": "stream",
     "text": [
      "[[ 1  0]\n",
      " [ 0 -1]]\n"
     ]
    }
   ],
   "source": [
    "import numpy as np\n",
    "Sz = np.array([[1,0],[0,-1]]) # sigma z umas das matrizes de Pauli\n",
    "print(Sz)"
   ]
  },
  {
   "cell_type": "markdown",
   "id": "0d028718",
   "metadata": {},
   "source": [
    "#### Soma de matriz, Multiplicação e divisão por escalar"
   ]
  },
  {
   "cell_type": "code",
   "execution_count": 5,
   "id": "c00ccf88",
   "metadata": {},
   "outputs": [
    {
     "name": "stdout",
     "output_type": "stream",
     "text": [
      "[[2]\n",
      " [3]]\n"
     ]
    }
   ],
   "source": [
    "v0 = np.array([[1],[0]])   # representação de um qubits? (ainda não entendi direito essa parte)\n",
    "v1 = np.array([[0],[1]])\n",
    "Psi = 2*v0 + 3*v1          # o Psi é uma combinação linear do estados v0 e v1  \n",
    "print(Psi)"
   ]
  },
  {
   "cell_type": "markdown",
   "id": "be4dd0b1",
   "metadata": {},
   "source": [
    "também a definição de raiz no numpy"
   ]
  },
  {
   "cell_type": "code",
   "execution_count": 6,
   "id": "b74ec6d9",
   "metadata": {},
   "outputs": [
    {
     "name": "stdout",
     "output_type": "stream",
     "text": [
      "[[ 0.70710678  0.70710678]\n",
      " [ 0.70710678 -0.70710678]]\n"
     ]
    }
   ],
   "source": [
    "M = np.array([[1,1],[1,-1]])\n",
    "Had = (1/np.sqrt(2))*M   # matriz M divida por raiz de 2\n",
    "print(Had)               # Hadamard é uma das portas lógicas da computação quântica (entender melhor) "
   ]
  },
  {
   "cell_type": "markdown",
   "id": "9e33eb66",
   "metadata": {},
   "source": [
    "#### Multiplicação de matriz"
   ]
  },
  {
   "cell_type": "code",
   "execution_count": 7,
   "id": "6abaa9d2",
   "metadata": {},
   "outputs": [
    {
     "name": "stdout",
     "output_type": "stream",
     "text": [
      "[[1 0]\n",
      " [0 1]]\n"
     ]
    }
   ],
   "source": [
    "print(Sz@Sz)"
   ]
  },
  {
   "cell_type": "code",
   "execution_count": 8,
   "id": "8893a60e",
   "metadata": {},
   "outputs": [
    {
     "name": "stdout",
     "output_type": "stream",
     "text": [
      "[[ 1.00000000e+00 -2.23711432e-17]\n",
      " [-2.23711432e-17  1.00000000e+00]]\n"
     ]
    }
   ],
   "source": [
    "print(Had@Had) # Hadamard ao quadrado é a matriz identidade"
   ]
  },
  {
   "cell_type": "code",
   "execution_count": 9,
   "id": "db4ab518",
   "metadata": {},
   "outputs": [
    {
     "name": "stdout",
     "output_type": "stream",
     "text": [
      "[[0.70710678]\n",
      " [0.70710678]]\n"
     ]
    }
   ],
   "source": [
    "print(Had@v0) # Hadamard aplicada a um estado "
   ]
  },
  {
   "cell_type": "markdown",
   "id": "636dd187",
   "metadata": {},
   "source": [
    "#### Matriz transposta"
   ]
  },
  {
   "cell_type": "code",
   "execution_count": 10,
   "id": "d58465df",
   "metadata": {},
   "outputs": [
    {
     "name": "stdout",
     "output_type": "stream",
     "text": [
      "[[1 0]]\n"
     ]
    }
   ],
   "source": [
    "v0l = np.transpose(v0)   # faz a transposta da matriz (transforma linha em coluna)\n",
    "print(v0l)"
   ]
  },
  {
   "cell_type": "code",
   "execution_count": 11,
   "id": "713a3133",
   "metadata": {},
   "outputs": [
    {
     "name": "stdout",
     "output_type": "stream",
     "text": [
      "[[1]]\n",
      "[[1 0]\n",
      " [0 0]]\n"
     ]
    }
   ],
   "source": [
    "print(v0l@v0)    # linha x coluna resulta em um escalar  (representação <0|0>)\n",
    "print(v0@v0l)    # coluna x linha resulta em uma matriz  (representação |0><0|)"
   ]
  },
  {
   "cell_type": "markdown",
   "id": "56c2fe39",
   "metadata": {},
   "source": [
    "### Combinação linear\n",
    "representando o estado Psi em diversas bases com combinações lineares diferentes"
   ]
  },
  {
   "cell_type": "markdown",
   "id": "234395fa",
   "metadata": {},
   "source": [
    "#### representando Psi como uma combinação linear dos estados |0> e |1>"
   ]
  },
  {
   "cell_type": "code",
   "execution_count": 12,
   "id": "881bc5c3",
   "metadata": {},
   "outputs": [
    {
     "name": "stdout",
     "output_type": "stream",
     "text": [
      "[[0.70710678]\n",
      " [0.70710678]]\n"
     ]
    }
   ],
   "source": [
    "Psi = (1/np.sqrt(2))*v0 + (1/np.sqrt(2))*v1\n",
    "print(Psi)"
   ]
  },
  {
   "cell_type": "markdown",
   "id": "9f9b35aa",
   "metadata": {},
   "source": [
    "#### representando Psi como uma combinação linear dos estados |+> e |->"
   ]
  },
  {
   "cell_type": "code",
   "execution_count": 13,
   "id": "c55f5f10",
   "metadata": {},
   "outputs": [
    {
     "name": "stdout",
     "output_type": "stream",
     "text": [
      "[[0.70710678]\n",
      " [0.70710678]]\n"
     ]
    }
   ],
   "source": [
    "vp = np.array([[1/np.sqrt(2)],[1/np.sqrt(2)]])   # vp = \"v plus\" estado |+>\n",
    "vm = np.array([[1/np.sqrt(2)],[-1/np.sqrt(2)]])  # vm = \"v minus\" estado |->\n",
    "Psi2 = 1*vp + 0*vm\n",
    "print(Psi2)"
   ]
  },
  {
   "cell_type": "markdown",
   "id": "73dd228d",
   "metadata": {},
   "source": [
    "qualquer estado de qubit pode ser representado por combinação linear da base computacional |0> e |1> ou da base |+> e |->"
   ]
  },
  {
   "cell_type": "markdown",
   "id": "ae61ea5f",
   "metadata": {},
   "source": [
    "### Lista de exercícios 1"
   ]
  },
  {
   "cell_type": "markdown",
   "id": "78ea6c2d",
   "metadata": {},
   "source": [
    "#### 1. "
   ]
  },
  {
   "cell_type": "markdown",
   "id": "7725d88e",
   "metadata": {},
   "source": [
    "a<sub>ij</sub> = 3i-j\n",
    "qual o elemento a<sub>22</sub>? <br>\n",
    "a<sub>22</sub> = 3.2 - 2 = 4 <br>\n",
    "'#' a"
   ]
  },
  {
   "cell_type": "markdown",
   "id": "9741e49a",
   "metadata": {},
   "source": [
    "#### 2."
   ]
  },
  {
   "cell_type": "code",
   "execution_count": 14,
   "id": "7b005f96",
   "metadata": {},
   "outputs": [
    {
     "name": "stdout",
     "output_type": "stream",
     "text": [
      "[[16 10  6]\n",
      " [23 17  9]\n",
      " [21  6  9]]\n"
     ]
    }
   ],
   "source": [
    "A = np.array([[1,2,1],[2,3,1],[0,4,1]])\n",
    "B = np.array([[3,6,1],[4,1,2],[5,2,1]])\n",
    "C = A@B\n",
    "print(C)\n",
    "# d"
   ]
  },
  {
   "cell_type": "markdown",
   "id": "59bf7420",
   "metadata": {},
   "source": [
    "#### 3."
   ]
  },
  {
   "cell_type": "code",
   "execution_count": 15,
   "id": "6c778959",
   "metadata": {},
   "outputs": [
    {
     "name": "stdout",
     "output_type": "stream",
     "text": [
      "[[ -5  10]\n",
      " [ 27 -34]]\n",
      "[[ 17   4]\n",
      " [-12  13]]\n"
     ]
    }
   ],
   "source": [
    "A = np.array([[1,2],[3,-4]])\n",
    "B = np.array([[5,0],[-6,7]])\n",
    "C = np.array([[1,-3,4],[2,6,-5]])\n",
    "print(5*A - 2*B)\n",
    "print(2*A + 3*B)\n",
    "# b"
   ]
  },
  {
   "cell_type": "markdown",
   "id": "59bf7420",
   "metadata": {},
   "source": [
    "#### 4."
   ]
  },
  {
   "cell_type": "code",
   "execution_count": 16,
   "id": "658b80b4",
   "metadata": {},
   "outputs": [
    {
     "name": "stdout",
     "output_type": "stream",
     "text": [
      "[[ -7  14]\n",
      " [ 39 -28]]\n",
      "[[  21  105  -98]\n",
      " [ -17 -285  296]]\n"
     ]
    }
   ],
   "source": [
    "print(A@B)\n",
    "print((A@B)@C)\n",
    "# c"
   ]
  },
  {
   "cell_type": "markdown",
   "id": "59bf7420",
   "metadata": {},
   "source": [
    "#### 5."
   ]
  },
  {
   "cell_type": "code",
   "execution_count": 17,
   "id": "e10e1dcd",
   "metadata": {},
   "outputs": [
    {
     "name": "stdout",
     "output_type": "stream",
     "text": [
      "[[  5 -15  20]\n",
      " [  8  60 -59]]\n",
      "[[  21  105  -98]\n",
      " [ -17 -285  296]]\n"
     ]
    }
   ],
   "source": [
    "print(B@C)\n",
    "print(A@(B@C))\n",
    "# e"
   ]
  },
  {
   "cell_type": "markdown",
   "id": "59bf7420",
   "metadata": {},
   "source": [
    "#### 6."
   ]
  },
  {
   "cell_type": "code",
   "execution_count": 18,
   "id": "de7f2d50",
   "metadata": {},
   "outputs": [
    {
     "name": "stdout",
     "output_type": "stream",
     "text": [
      "[[0 0 0]\n",
      " [0 0 0]]\n"
     ]
    }
   ],
   "source": [
    "print((A@B)@C - A@(B@C))\n",
    "# d"
   ]
  },
  {
   "cell_type": "markdown",
   "id": "59bf7420",
   "metadata": {},
   "source": [
    "#### 7."
   ]
  },
  {
   "cell_type": "code",
   "execution_count": 19,
   "id": "c80c7cc6",
   "metadata": {},
   "outputs": [
    {
     "name": "stdout",
     "output_type": "stream",
     "text": [
      "[[ 7 -6]\n",
      " [-9 22]]\n",
      "[[  5   9  -6]\n",
      " [ -5 -33  32]]\n"
     ]
    }
   ],
   "source": [
    "print(A@A)\n",
    "print(A@C)\n",
    "# d"
   ]
  },
  {
   "cell_type": "markdown",
   "id": "59bf7420",
   "metadata": {},
   "source": [
    "#### 8."
   ]
  },
  {
   "cell_type": "code",
   "execution_count": 20,
   "id": "50f5086e",
   "metadata": {},
   "outputs": [
    {
     "name": "stdout",
     "output_type": "stream",
     "text": [
      "[[ 1  3]\n",
      " [ 2 -4]]\n",
      "[[ 5 -6]\n",
      " [ 0  7]]\n",
      "[[  5  15]\n",
      " [ 10 -40]]\n"
     ]
    }
   ],
   "source": [
    "At = (np.transpose(A))\n",
    "Bt = (np.transpose(B))\n",
    "print(At)\n",
    "print(Bt)\n",
    "print(At@Bt)\n",
    "# e"
   ]
  },
  {
   "cell_type": "markdown",
   "id": "59bf7420",
   "metadata": {},
   "source": [
    "#### 9."
   ]
  },
  {
   "cell_type": "code",
   "execution_count": 21,
   "id": "86267a2f",
   "metadata": {},
   "outputs": [
    {
     "name": "stdout",
     "output_type": "stream",
     "text": [
      "[[ 12 -24]\n",
      " [ -4 -12]]\n"
     ]
    }
   ],
   "source": [
    "print((At@Bt)-np.transpose(A@B))\n",
    "# e"
   ]
  }
 ],
 "metadata": {
  "kernelspec": {
   "display_name": "Python 3.10.5 64-bit",
   "language": "python",
   "name": "python3"
  },
  "language_info": {
   "codemirror_mode": {
    "name": "ipython",
    "version": 3
   },
   "file_extension": ".py",
   "mimetype": "text/x-python",
   "name": "python",
   "nbconvert_exporter": "python",
   "pygments_lexer": "ipython3",
   "version": "3.10.5"
  },
  "vscode": {
   "interpreter": {
    "hash": "4e1d9a8909477db77738c33245c29c7265277ef753467dede8cf3f814cde494e"
   }
  }
 },
 "nbformat": 4,
 "nbformat_minor": 5
}
