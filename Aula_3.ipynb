{
 "cells": [
  {
   "cell_type": "markdown",
   "metadata": {},
   "source": [
    "# computação Quantica\n",
    "## Aula 3"
   ]
  },
  {
   "cell_type": "markdown",
   "metadata": {},
   "source": [
    "### Números Complexos com numpy"
   ]
  },
  {
   "cell_type": "code",
   "execution_count": 16,
   "metadata": {},
   "outputs": [],
   "source": [
    "import numpy as np"
   ]
  },
  {
   "cell_type": "code",
   "execution_count": 17,
   "metadata": {},
   "outputs": [
    {
     "name": "stdout",
     "output_type": "stream",
     "text": [
      "(3+5j)\n"
     ]
    }
   ],
   "source": [
    "# z = u + iv\n",
    "z = 3 + 1j*5\n",
    "print(z)"
   ]
  },
  {
   "cell_type": "code",
   "execution_count": 18,
   "metadata": {},
   "outputs": [
    {
     "name": "stdout",
     "output_type": "stream",
     "text": [
      "(4+2j)\n"
     ]
    }
   ],
   "source": [
    "w = 4 + 2*1j\n",
    "print(w)"
   ]
  },
  {
   "cell_type": "code",
   "execution_count": 19,
   "metadata": {},
   "outputs": [
    {
     "name": "stdout",
     "output_type": "stream",
     "text": [
      "(7+7j)\n",
      "(2+26j)\n",
      "(-1+3j)\n",
      "(1.1+0.7j)\n"
     ]
    }
   ],
   "source": [
    "# operações fundamentáis de números complexos\n",
    "print(z+w)\n",
    "print(z*w)\n",
    "print(z-w)\n",
    "print(z/w)"
   ]
  },
  {
   "cell_type": "code",
   "execution_count": 20,
   "metadata": {},
   "outputs": [
    {
     "data": {
      "text/plain": [
       "(3-5j)"
      ]
     },
     "execution_count": 20,
     "metadata": {},
     "output_type": "execute_result"
    }
   ],
   "source": [
    "# conjugado de complexo\n",
    "np.conjugate(z)"
   ]
  },
  {
   "cell_type": "code",
   "execution_count": 21,
   "metadata": {},
   "outputs": [
    {
     "name": "stdout",
     "output_type": "stream",
     "text": [
      "3.0\n",
      "2.0\n"
     ]
    }
   ],
   "source": [
    "# recebendo a parte real \n",
    "print(z.real)\n",
    "# recebendo a parte imaginaria \n",
    "print(w.imag)"
   ]
  },
  {
   "cell_type": "code",
   "execution_count": 22,
   "metadata": {},
   "outputs": [
    {
     "name": "stdout",
     "output_type": "stream",
     "text": [
      "5.830951894845301\n",
      "(1+1j)\n",
      "1.4142135623730951\n",
      "1.4142135623730951\n"
     ]
    }
   ],
   "source": [
    "# encontrando o módulo do complexo\n",
    "print(abs(z))\n",
    "a = 1 + 1*1j\n",
    "print(a)\n",
    "print(abs(a))\n",
    "print(np.sqrt(2))"
   ]
  },
  {
   "cell_type": "markdown",
   "metadata": {},
   "source": [
    "### Forma de Euler"
   ]
  },
  {
   "cell_type": "markdown",
   "metadata": {},
   "source": [
    "$$\n",
    "e^{i\\theta} = \\cos(\\theta) + i \\cdot \\sin(\\theta)\n",
    "$$\n",
    "#### Números complexos na forma de Euler\n",
    "pela representação vetorial dos números complexos em um plano \n",
    "dos imaginários pelos reais, podemos definir a forma polar dos \n",
    "números complexos. <br><br>\n",
    "partindo de \n",
    "$$\n",
    "z = a + ib\n",
    "$$\n",
    "temos que: $$\\cos(\\theta) = \\frac{a}{|z|}$$ e $$\\sin(\\theta) = \\frac{b}{|z|}$$\n",
    "logo\n",
    "$$z  = a + ib = |z|\\cos(\\theta) + i|z|\\sin(\\theta) $$\n",
    "$$ = |z|[\\cos(\\theta)+i\\sin(\\theta)]$$\n",
    "$$ = |z|e^{i\\theta}$$"
   ]
  },
  {
   "cell_type": "markdown",
   "metadata": {},
   "source": [
    "### Vetores complexos"
   ]
  },
  {
   "cell_type": "markdown",
   "metadata": {},
   "source": [
    "$|\\psi>$ $\\rightarrow$ Ket  (vetor coluna complexo) <br>\n",
    "$<\\psi|$ $\\rightarrow$ Bra (vetor linha complexo)<br>\n",
    "$<\\psi|\\psi>$ $\\rightarrow$ Braket (produto interno)"
   ]
  },
  {
   "cell_type": "markdown",
   "metadata": {},
   "source": [
    "Os elementos do espaço $\\mathbb{C}^R$ são todos os vetores do tipo: <br>\n",
    "$$|\\psi>\\ = (z_1, z_2, \\dots , z_n)$$\n",
    "onde $$z_1, z_2, \\dots ,zn \\in \\mathbb{C}$$"
   ]
  },
  {
   "cell_type": "markdown",
   "metadata": {},
   "source": [
    "ou seja cada $|\\psi>$ pode ser representado por um vetor coluna: \n",
    "$$|\\psi>\\ = \\left(\\begin{array}{cc}\n",
    "z_1\\\\\n",
    "z_2\\\\\n",
    "\\vdots\\\\\n",
    "z_n\n",
    "\\end{array}\\right)$$"
   ]
  },
  {
   "cell_type": "markdown",
   "metadata": {},
   "source": [
    "### Operação de transposição conjugada"
   ]
  },
  {
   "cell_type": "markdown",
   "metadata": {},
   "source": [
    "Realiza a matriz transposta e faz o conjugado de todos os números complexos da matriz\n",
    "$$\n",
    "\\mathbf{A}=\\left(\\begin{array}{cc}\n",
    "z_{11} & z_{12}\\\\\n",
    " z_{21} & z_{22}\n",
    "\\end{array}\\right) \\rightarrow\n",
    "\\mathbf{A^+}=\\left(\\begin{array}{cc}\n",
    "z_{11}^* & z_{21}^*\\\\\n",
    "z_{12}^* & z_{22}^*\n",
    "\\end{array}\\right)\n",
    "$$\n",
    "lembrar do simbolo de +"
   ]
  },
  {
   "cell_type": "markdown",
   "metadata": {},
   "source": [
    "Aplicando a operação de transposição conjugada no vetor ket\n",
    "$$\n",
    "|\\psi>\\ = \\left(\\begin{array}{cc}\n",
    "z_1\\\\\n",
    "z_2\\\\\n",
    "\\vdots\\\\\n",
    "z_n\n",
    "\\end{array}\\right) \n",
    "\\rightarrow\n",
    "|\\psi>^+ = \\left(\\begin{array}{cc}\n",
    "z_1^* &\n",
    "z_2^* &\n",
    "\\dots &\n",
    "z_n^*\n",
    "\\end{array}\\right)\n",
    "$$\n"
   ]
  },
  {
   "cell_type": "markdown",
   "metadata": {},
   "source": [
    "e temos\n",
    "$$\n",
    "|\\psi>^+ =\\ <\\psi|\n",
    "$$\n",
    "\"Ket com operação de transposição conjugada é igual a Bra\""
   ]
  },
  {
   "cell_type": "markdown",
   "metadata": {},
   "source": [
    "### Produto Interno "
   ]
  },
  {
   "cell_type": "markdown",
   "metadata": {},
   "source": [
    "Definindo: <br>\n",
    "$|\\psi>\\ = \\left(\\begin{array}{cc}\n",
    "z_1\\\\\n",
    "z_2\\\\\n",
    "\\vdots\\\\\n",
    "z_n\n",
    "\\end{array}\\right)\n",
    "\\qquad e\\qquad \n",
    "|\\phi>\\ = \\left(\\begin{array}{cc}\n",
    "w_1\\\\\n",
    "w_2\\\\\n",
    "\\vdots\\\\\n",
    "w_n\n",
    "\\end{array}\\right)$"
   ]
  },
  {
   "cell_type": "markdown",
   "metadata": {},
   "source": [
    "Temos o produto interno entre $|\\psi>$ e $|\\phi>$ sendo\n",
    "$$<\\psi|\\phi>\\ = \\left(\\begin{array}{cc}\n",
    "z_1^* & z_2^* & \\dots & z_n^*\n",
    "\\end{array}\\right) . \\left(\\begin{array}{cc}\n",
    "w_1\\\\\n",
    "w_2\\\\\n",
    "\\vdots\\\\\n",
    "w_n\n",
    "\\end{array}\\right) = z_1^*w_1 + z_2^*w_2 + \\dots + z_n^*w_n\n",
    "$$\n",
    "como temos uma matriz linha multiplicada por uma matriz coluna temos como resultado um escalar"
   ]
  },
  {
   "cell_type": "markdown",
   "metadata": {},
   "source": [
    "temos também que \n",
    "$$<\\psi|\\phi>\\ = (|\\psi>^+, |\\phi>) $$\n",
    "e que o produto interno é um BraKet"
   ]
  },
  {
   "cell_type": "markdown",
   "metadata": {},
   "source": [
    "### Produtol Externo"
   ]
  },
  {
   "cell_type": "markdown",
   "metadata": {},
   "source": [
    "o produto externo é um KetBra\n",
    "$$\n",
    "|\\psi><\\phi|\\ = \n",
    "\\left(\\begin{array}{cc}\n",
    "z_1\\\\\n",
    "z_2\\\\\n",
    "\\vdots\\\\\n",
    "z_n\n",
    "\\end{array}\\right) \n",
    ". \n",
    "\\left(\\begin{array}{cc}\n",
    "w_1^* & w_2^* & \\dots & w_n^*\n",
    "\\end{array}\\right) = \\left(\\begin{array}{cc}\n",
    "z_1w_1^* & z_1w_2^* & \\dots & z_1w_n^*\\\\ \n",
    "z_2w_1^* & z_2w_2^* & \\dots & z_2w_n^*\\\\ \n",
    "\\vdots & \\vdots & \\ddots & \\vdots \\\\\n",
    "z_nw_1^* & z_nw_2^* & \\dots & z_nw_n^*\\\\ \n",
    "\\end{array}\\right)\n",
    "$$\n",
    "como é uma multiplicação de matriz coluna por matriz linha temos uma matriz nxn"
   ]
  },
  {
   "cell_type": "markdown",
   "metadata": {},
   "source": [
    "### Produto Interno e Externo no numpy"
   ]
  },
  {
   "cell_type": "code",
   "execution_count": 32,
   "metadata": {},
   "outputs": [
    {
     "name": "stdout",
     "output_type": "stream",
     "text": [
      "[[0.70710678+0.j        ]\n",
      " [0.        +0.70710678j]]\n"
     ]
    }
   ],
   "source": [
    "vket = np.array([[1/np.sqrt(2)],[1j/np.sqrt(2)]])   # vetor V na forma Ket (vetor coluna)\n",
    "print(vc)"
   ]
  },
  {
   "cell_type": "code",
   "execution_count": 31,
   "metadata": {},
   "outputs": [
    {
     "name": "stdout",
     "output_type": "stream",
     "text": [
      "[[0.70710678-0.j         0.        -0.70710678j]]\n"
     ]
    }
   ],
   "source": [
    "vbra = np.transpose(np.conjugate(vc))   # para obter o vetor V na forma Bra temos que fazer a operação de transposição conjugada\n",
    "# ou seja fazer o conjugado de todos os valores de V e depois fazer sua matriz conjugada\n",
    "print(vl)"
   ]
  },
  {
   "cell_type": "code",
   "execution_count": 33,
   "metadata": {},
   "outputs": [
    {
     "name": "stdout",
     "output_type": "stream",
     "text": [
      "[[1.+0.j]]\n"
     ]
    }
   ],
   "source": [
    "# Produto interno (BraKet)\n",
    "print(vbra@vket)"
   ]
  },
  {
   "cell_type": "code",
   "execution_count": 34,
   "metadata": {},
   "outputs": [
    {
     "name": "stdout",
     "output_type": "stream",
     "text": [
      "[[0.5+0.j  0. -0.5j]\n",
      " [0. +0.5j 0.5+0.j ]]\n"
     ]
    }
   ],
   "source": [
    "# Produto externo (KetBra)\n",
    "print(vket@vbra)"
   ]
  }
 ],
 "metadata": {
  "interpreter": {
   "hash": "e7370f93d1d0cde622a1f8e1c04877d8463912d04d973331ad4851f04de6915a"
  },
  "kernelspec": {
   "display_name": "Python 3.10.4 64-bit",
   "language": "python",
   "name": "python3"
  },
  "language_info": {
   "codemirror_mode": {
    "name": "ipython",
    "version": 3
   },
   "file_extension": ".py",
   "mimetype": "text/x-python",
   "name": "python",
   "nbconvert_exporter": "python",
   "pygments_lexer": "ipython3",
   "version": "3.10.4"
  },
  "orig_nbformat": 4
 },
 "nbformat": 4,
 "nbformat_minor": 2
}
