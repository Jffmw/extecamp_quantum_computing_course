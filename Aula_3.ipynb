{
 "cells": [
  {
   "cell_type": "markdown",
   "metadata": {},
   "source": [
    "# computação Quantica\n",
    "## Aula 3"
   ]
  },
  {
   "cell_type": "markdown",
   "metadata": {},
   "source": [
    "### Números Complexos com numpy"
   ]
  },
  {
   "cell_type": "code",
   "execution_count": 2,
   "metadata": {},
   "outputs": [],
   "source": [
    "import numpy as np"
   ]
  },
  {
   "cell_type": "code",
   "execution_count": 3,
   "metadata": {},
   "outputs": [
    {
     "name": "stdout",
     "output_type": "stream",
     "text": [
      "(3+5j)\n"
     ]
    }
   ],
   "source": [
    "# z = u + iv\n",
    "z = 3 + 1j*5\n",
    "print(z)"
   ]
  },
  {
   "cell_type": "code",
   "execution_count": 4,
   "metadata": {},
   "outputs": [
    {
     "name": "stdout",
     "output_type": "stream",
     "text": [
      "(4+2j)\n"
     ]
    }
   ],
   "source": [
    "w = 4 + 2*1j\n",
    "print(w)"
   ]
  },
  {
   "cell_type": "code",
   "execution_count": 5,
   "metadata": {},
   "outputs": [
    {
     "name": "stdout",
     "output_type": "stream",
     "text": [
      "(7+7j)\n",
      "(2+26j)\n",
      "(-1+3j)\n",
      "(1.1+0.7j)\n"
     ]
    }
   ],
   "source": [
    "# operações fundamentais de números complexos\n",
    "print(z+w)\n",
    "print(z*w)\n",
    "print(z-w)\n",
    "print(z/w)"
   ]
  },
  {
   "cell_type": "code",
   "execution_count": 6,
   "metadata": {},
   "outputs": [
    {
     "data": {
      "text/plain": [
       "(3-5j)"
      ]
     },
     "execution_count": 6,
     "metadata": {},
     "output_type": "execute_result"
    }
   ],
   "source": [
    "# conjugado de complexo\n",
    "np.conjugate(z)"
   ]
  },
  {
   "cell_type": "code",
   "execution_count": 7,
   "metadata": {},
   "outputs": [
    {
     "name": "stdout",
     "output_type": "stream",
     "text": [
      "3.0\n",
      "2.0\n"
     ]
    }
   ],
   "source": [
    "# recebendo a parte real \n",
    "print(z.real)\n",
    "# recebendo a parte imaginaria \n",
    "print(w.imag)"
   ]
  },
  {
   "cell_type": "code",
   "execution_count": 8,
   "metadata": {},
   "outputs": [
    {
     "name": "stdout",
     "output_type": "stream",
     "text": [
      "5.830951894845301\n",
      "(1+1j)\n",
      "1.4142135623730951\n",
      "1.4142135623730951\n"
     ]
    }
   ],
   "source": [
    "# encontrando o módulo do complexo\n",
    "print(abs(z))\n",
    "a = 1 + 1*1j\n",
    "print(a)\n",
    "print(abs(a))\n",
    "print(np.sqrt(2))"
   ]
  },
  {
   "cell_type": "markdown",
   "metadata": {},
   "source": [
    "### Forma de Euler"
   ]
  },
  {
   "cell_type": "markdown",
   "metadata": {},
   "source": [
    "$$\n",
    "e^{i\\theta} = \\cos(\\theta) + i \\cdot \\sin(\\theta)\n",
    "$$\n",
    "#### Números complexos na forma de Euler\n",
    "pela representação vetorial dos números complexos em um plano \n",
    "dos imaginários pelos reais, podemos definir a forma polar dos \n",
    "números complexos. <br><br>\n",
    "partindo de \n",
    "$$\n",
    "z = a + ib\n",
    "$$\n",
    "temos que: $$\\cos(\\theta) = \\frac{a}{|z|}$$ e $$\\sin(\\theta) = \\frac{b}{|z|}$$\n",
    "logo\n",
    "$$z  = a + ib = |z|\\cos(\\theta) + i|z|\\sin(\\theta) $$\n",
    "$$ = |z|[\\cos(\\theta)+i\\sin(\\theta)]$$\n",
    "$$ = |z|e^{i\\theta}$$"
   ]
  },
  {
   "cell_type": "markdown",
   "metadata": {},
   "source": [
    "### Vetores complexos"
   ]
  },
  {
   "cell_type": "markdown",
   "metadata": {},
   "source": [
    "$|\\psi>$ $\\rightarrow$ Ket  (vetor coluna complexo) <br>\n",
    "$<\\psi|$ $\\rightarrow$ Bra (vetor linha complexo)<br>\n",
    "$<\\psi|\\psi>$ $\\rightarrow$ Braket (produto interno)"
   ]
  },
  {
   "cell_type": "markdown",
   "metadata": {},
   "source": [
    "Os elementos do espaço $\\mathbb{C}^R$ são todos os vetores do tipo: <br>\n",
    "$$|\\psi>\\ = (z_1, z_2, \\dots , z_n)$$\n",
    "onde $$z_1, z_2, \\dots ,zn \\in \\mathbb{C}$$"
   ]
  },
  {
   "cell_type": "markdown",
   "metadata": {},
   "source": [
    "ou seja cada $|\\psi>$ pode ser representado por um vetor coluna: \n",
    "$$|\\psi>\\ = \\left(\\begin{array}{cc}\n",
    "z_1\\\\\n",
    "z_2\\\\\n",
    "\\vdots\\\\\n",
    "z_n\n",
    "\\end{array}\\right)$$"
   ]
  },
  {
   "cell_type": "markdown",
   "metadata": {},
   "source": [
    "### Operação de transposição conjugada"
   ]
  },
  {
   "cell_type": "markdown",
   "metadata": {},
   "source": [
    "Realiza a matriz transposta e faz o conjugado de todos os números complexos da matriz\n",
    "$$\n",
    "\\mathbf{A}=\\left(\\begin{array}{cc}\n",
    "z_{11} & z_{12}\\\\\n",
    " z_{21} & z_{22}\n",
    "\\end{array}\\right) \\rightarrow\n",
    "\\mathbf{A^+}=\\left(\\begin{array}{cc}\n",
    "z_{11}^* & z_{21}^*\\\\\n",
    "z_{12}^* & z_{22}^*\n",
    "\\end{array}\\right)\n",
    "$$\n",
    "lembrar do simbolo de +"
   ]
  },
  {
   "cell_type": "markdown",
   "metadata": {},
   "source": [
    "Aplicando a operação de transposição conjugada no vetor ket\n",
    "$$\n",
    "|\\psi>\\ = \\left(\\begin{array}{cc}\n",
    "z_1\\\\\n",
    "z_2\\\\\n",
    "\\vdots\\\\\n",
    "z_n\n",
    "\\end{array}\\right) \n",
    "\\rightarrow\n",
    "|\\psi>^+ = \\left(\\begin{array}{cc}\n",
    "z_1^* &\n",
    "z_2^* &\n",
    "\\dots &\n",
    "z_n^*\n",
    "\\end{array}\\right)\n",
    "$$\n"
   ]
  },
  {
   "cell_type": "markdown",
   "metadata": {},
   "source": [
    "e temos\n",
    "$$\n",
    "|\\psi>^+ =\\ <\\psi|\n",
    "$$\n",
    "\"Ket com operação de transposição conjugada é igual a Bra\""
   ]
  },
  {
   "cell_type": "markdown",
   "metadata": {},
   "source": [
    "### Produto Interno "
   ]
  },
  {
   "cell_type": "markdown",
   "metadata": {},
   "source": [
    "Definindo: <br>\n",
    "$|\\psi>\\ = \\left(\\begin{array}{cc}\n",
    "z_1\\\\\n",
    "z_2\\\\\n",
    "\\vdots\\\\\n",
    "z_n\n",
    "\\end{array}\\right)\n",
    "\\qquad e\\qquad \n",
    "|\\phi>\\ = \\left(\\begin{array}{cc}\n",
    "w_1\\\\\n",
    "w_2\\\\\n",
    "\\vdots\\\\\n",
    "w_n\n",
    "\\end{array}\\right)$"
   ]
  },
  {
   "cell_type": "markdown",
   "metadata": {},
   "source": [
    "Temos o produto interno entre $|\\psi>$ e $|\\phi>$ sendo\n",
    "$$<\\psi|\\phi>\\ = \\left(\\begin{array}{cc}\n",
    "z_1^* & z_2^* & \\dots & z_n^*\n",
    "\\end{array}\\right) . \\left(\\begin{array}{cc}\n",
    "w_1\\\\\n",
    "w_2\\\\\n",
    "\\vdots\\\\\n",
    "w_n\n",
    "\\end{array}\\right) = z_1^*w_1 + z_2^*w_2 + \\dots + z_n^*w_n\n",
    "$$\n",
    "como temos uma matriz linha multiplicada por uma matriz coluna temos como resultado um escalar"
   ]
  },
  {
   "cell_type": "markdown",
   "metadata": {},
   "source": [
    "temos também que \n",
    "$$<\\psi|\\phi>\\ = (|\\psi>^+, |\\phi>) $$\n",
    "e que o produto interno é um BraKet"
   ]
  },
  {
   "cell_type": "markdown",
   "metadata": {},
   "source": [
    "### Produtol Externo"
   ]
  },
  {
   "cell_type": "markdown",
   "metadata": {},
   "source": [
    "o produto externo é um KetBra\n",
    "$$\n",
    "|\\psi><\\phi|\\ = \n",
    "\\left(\\begin{array}{cc}\n",
    "z_1\\\\\n",
    "z_2\\\\\n",
    "\\vdots\\\\\n",
    "z_n\n",
    "\\end{array}\\right) \n",
    ". \n",
    "\\left(\\begin{array}{cc}\n",
    "w_1^* & w_2^* & \\dots & w_n^*\n",
    "\\end{array}\\right) = \\left(\\begin{array}{cc}\n",
    "z_1w_1^* & z_1w_2^* & \\dots & z_1w_n^*\\\\ \n",
    "z_2w_1^* & z_2w_2^* & \\dots & z_2w_n^*\\\\ \n",
    "\\vdots & \\vdots & \\ddots & \\vdots \\\\\n",
    "z_nw_1^* & z_nw_2^* & \\dots & z_nw_n^*\\\\ \n",
    "\\end{array}\\right)\n",
    "$$\n",
    "como é uma multiplicação de matriz coluna por matriz linha temos uma matriz nxn"
   ]
  },
  {
   "cell_type": "markdown",
   "metadata": {},
   "source": [
    "### Produto Interno e Externo no numpy"
   ]
  },
  {
   "cell_type": "code",
   "execution_count": 9,
   "metadata": {},
   "outputs": [
    {
     "name": "stdout",
     "output_type": "stream",
     "text": [
      "[[0.70710678+0.j        ]\n",
      " [0.        +0.70710678j]]\n"
     ]
    }
   ],
   "source": [
    "vket = np.array([[1/np.sqrt(2)],[1j/np.sqrt(2)]])   # vetor V na forma Ket (vetor coluna)\n",
    "print(vket)"
   ]
  },
  {
   "cell_type": "code",
   "execution_count": 10,
   "metadata": {},
   "outputs": [
    {
     "name": "stdout",
     "output_type": "stream",
     "text": [
      "[[0.70710678-0.j         0.        -0.70710678j]]\n"
     ]
    }
   ],
   "source": [
    "vbra = np.transpose(np.conjugate(vket))   # para obter o vetor V na forma Bra temos que fazer a operação de transposição conjugada\n",
    "# ou seja fazer o conjugado de todos os valores de V e depois fazer sua matriz conjugada\n",
    "print(vbra)"
   ]
  },
  {
   "cell_type": "code",
   "execution_count": 11,
   "metadata": {},
   "outputs": [
    {
     "name": "stdout",
     "output_type": "stream",
     "text": [
      "[[1.+0.j]]\n"
     ]
    }
   ],
   "source": [
    "# Produto interno (BraKet)\n",
    "print(vbra@vket)"
   ]
  },
  {
   "cell_type": "code",
   "execution_count": 12,
   "metadata": {},
   "outputs": [
    {
     "name": "stdout",
     "output_type": "stream",
     "text": [
      "[[0.5+0.j  0. -0.5j]\n",
      " [0. +0.5j 0.5+0.j ]]\n"
     ]
    }
   ],
   "source": [
    "# Produto externo (KetBra)\n",
    "print(vket@vbra)"
   ]
  },
  {
   "cell_type": "markdown",
   "metadata": {},
   "source": [
    "### Produto Tensorial"
   ]
  },
  {
   "cell_type": "markdown",
   "metadata": {},
   "source": [
    "#### Dimensão do resultado\n",
    "$$\n",
    "\\begin{align*}\n",
    "E_1 \\otimes E_2 &= E \\\\\n",
    "dim(E_1) . dim(E_2) &= dim(E)\n",
    "\\end{align*}\n",
    "$$"
   ]
  },
  {
   "cell_type": "markdown",
   "metadata": {},
   "source": [
    "#### Operação do produto tensorial\n",
    "$$\n",
    "|\\psi>\\otimes\\ |\\phi>\n",
    "\\ = \n",
    "\\left(\\begin{array}{cc}\n",
    "z_1\\\\\n",
    "z_2\\\\\n",
    "\\vdots\\\\\n",
    "z_n\n",
    "\\end{array}\\right)\n",
    "\\otimes\n",
    "\\left(\\begin{array}{cc}\n",
    "w_1\\\\\n",
    "w_2\\\\\n",
    "\\vdots\\\\\n",
    "w_n\n",
    "\\end{array}\\right)\n",
    "\\ = \n",
    "\\left(\\begin{array}{cc}\n",
    "z_1.\\left(\\begin{array}{cc}\n",
    "w_1\\\\\n",
    "w_2\\\\\n",
    "\\vdots\\\\\n",
    "w_n\n",
    "\\end{array}\\right) \\\\\n",
    "z_2.\\left(\\begin{array}{cc}\n",
    "w_1\\\\\n",
    "w_2\\\\\n",
    "\\vdots\\\\\n",
    "w_n\n",
    "\\end{array}\\right) \\\\\n",
    "\\vdots\\\\\n",
    "z_n.\\left(\\begin{array}{cc}\n",
    "w_1\\\\\n",
    "w_2\\\\\n",
    "\\vdots\\\\\n",
    "w_n\n",
    "\\end{array}\\right)\n",
    "\\end{array}\\right)\n",
    "\\ = \n",
    "\\left(\\begin{array}{cc}\n",
    "z_1w_1\\\\\n",
    "z_1w_2\\\\\n",
    "z_1w_3\\\\\n",
    "\\vdots\\\\\n",
    "z_1w_n\\\\\n",
    "z_2w_1\\\\\n",
    "z_2w_2\\\\\n",
    "z_2w_3\\\\\n",
    "\\vdots\\\\\n",
    "z_2w_n\\\\\n",
    "\\vdots\\\\\n",
    "z_nw_n\n",
    "\\end{array}\\right)\n",
    "$$"
   ]
  },
  {
   "cell_type": "markdown",
   "metadata": {},
   "source": [
    "o convencional é enfiar a operação no sentido da direita para esquerda"
   ]
  },
  {
   "cell_type": "markdown",
   "metadata": {},
   "source": [
    "### Produto tensorial no numpy"
   ]
  },
  {
   "cell_type": "code",
   "execution_count": 19,
   "metadata": {},
   "outputs": [],
   "source": [
    "# definindo as bases computacionais em Ket e Bra\n",
    "v0 = np.array([[1],[0]])\n",
    "v1 = np.array([[0],[1]])\n",
    "v0l = np.conjugate(v0).T \n",
    "v1l = np.conjugate(v1).T "
   ]
  },
  {
   "cell_type": "code",
   "execution_count": 21,
   "metadata": {},
   "outputs": [
    {
     "name": "stdout",
     "output_type": "stream",
     "text": [
      "[[0.70710678]\n",
      " [0.70710678]]\n"
     ]
    }
   ],
   "source": [
    "psi = (1/np.sqrt(2))*(v0 + v1)\n",
    "print(psi)"
   ]
  },
  {
   "cell_type": "code",
   "execution_count": 22,
   "metadata": {},
   "outputs": [
    {
     "data": {
      "text/plain": [
       "array([[0.70710678],\n",
       "       [0.        ],\n",
       "       [0.70710678],\n",
       "       [0.        ]])"
      ]
     },
     "execution_count": 22,
     "metadata": {},
     "output_type": "execute_result"
    }
   ],
   "source": [
    "# fazendo o produto tensorial de psi com v0\n",
    "np.kron(psi,v0)"
   ]
  },
  {
   "cell_type": "markdown",
   "metadata": {},
   "source": [
    "### Lista de Exercícios 2"
   ]
  },
  {
   "cell_type": "markdown",
   "metadata": {},
   "source": [
    "#### 1"
   ]
  },
  {
   "cell_type": "code",
   "execution_count": 16,
   "metadata": {},
   "outputs": [
    {
     "name": "stdout",
     "output_type": "stream",
     "text": [
      "(2+3j)\n",
      "(5-2j)\n",
      "(7+1j)\n",
      "(16+11j)\n",
      "(2-3j)\n",
      "(5+2j)\n",
      "(0.30769230769230765-1.4615384615384617j)\n",
      "0.3076923076923077\n",
      "3.605551275463989\n",
      "5.385164807134504\n"
     ]
    }
   ],
   "source": [
    "z = 2 + 1j*3\n",
    "w = 5 - 1j*2\n",
    "print(z)\n",
    "print(w)\n",
    "print(z+w)\n",
    "print(z*w)\n",
    "print(np.conjugate(z))\n",
    "print(np.conjugate(w))\n",
    "print(w/z)\n",
    "print(abs(z))\n",
    "print(abs(w))\n",
    "# C"
   ]
  },
  {
   "cell_type": "markdown",
   "metadata": {},
   "source": [
    "#### 5 ****"
   ]
  },
  {
   "cell_type": "code",
   "execution_count": 46,
   "metadata": {},
   "outputs": [
    {
     "name": "stdout",
     "output_type": "stream",
     "text": [
      "[[ 0.70710678  0.70710678]\n",
      " [ 0.70710678 -0.70710678]]\n"
     ]
    }
   ],
   "source": [
    "M = np.array([[1,1],[1,-1]])\n",
    "Had = (1/np.sqrt(2))*M \n",
    "print(Had)  "
   ]
  },
  {
   "cell_type": "code",
   "execution_count": null,
   "metadata": {},
   "outputs": [],
   "source": []
  },
  {
   "cell_type": "markdown",
   "metadata": {},
   "source": [
    "#### 6"
   ]
  },
  {
   "cell_type": "code",
   "execution_count": 28,
   "metadata": {},
   "outputs": [
    {
     "name": "stdout",
     "output_type": "stream",
     "text": [
      "[[0.5+0.j  0. +0.5j]\n",
      " [0. -0.5j 0.5+0.j ]]\n"
     ]
    }
   ],
   "source": [
    "psi = (1/np.sqrt(2))*(v0-1j*v1) # ket\n",
    "psil = np.conjugate(psi).T      # bra \n",
    "print(psi@psil)"
   ]
  },
  {
   "cell_type": "code",
   "execution_count": 29,
   "metadata": {},
   "outputs": [
    {
     "name": "stdout",
     "output_type": "stream",
     "text": [
      "[[0.25 0.25 0.25 0.25]\n",
      " [0.25 0.25 0.25 0.25]\n",
      " [0.25 0.25 0.25 0.25]\n",
      " [0.25 0.25 0.25 0.25]]\n"
     ]
    }
   ],
   "source": [
    "psi = (1/2)*(np.kron(v0,v0)+np.kron(v0,v1)+np.kron(v1,v0)+np.kron(v1,v1))\n",
    "psil = np.conjugate(psi).T \n",
    "print(psi@psil)\n",
    "# B"
   ]
  },
  {
   "cell_type": "markdown",
   "metadata": {},
   "source": [
    "#### 7"
   ]
  },
  {
   "cell_type": "code",
   "execution_count": 30,
   "metadata": {},
   "outputs": [
    {
     "name": "stdout",
     "output_type": "stream",
     "text": [
      "[[0.75]]\n"
     ]
    }
   ],
   "source": [
    "psi = (np.sqrt(3)/2)*(v0+v1)\n",
    "psil = np.conjugate(psi).T \n",
    "print((v0l@psi)*(psil@v0))\n",
    "# C"
   ]
  },
  {
   "cell_type": "markdown",
   "metadata": {},
   "source": [
    "#### 8"
   ]
  },
  {
   "cell_type": "code",
   "execution_count": 31,
   "metadata": {},
   "outputs": [
    {
     "name": "stdout",
     "output_type": "stream",
     "text": [
      "[[0.5 0.5]\n",
      " [0.5 0.5]]\n",
      "[[0.5 0. ]\n",
      " [0.  0.5]]\n"
     ]
    }
   ],
   "source": [
    "psi = (1/np.sqrt(2))*(v0 + v1)\n",
    "psil = np.conjugate(psi).T \n",
    "print(psi@psil)\n",
    "print(((1/2)*(v0@v0l))+((1/2)*(v1@v1l)))\n",
    "# E"
   ]
  },
  {
   "cell_type": "markdown",
   "metadata": {},
   "source": [
    "#### 9"
   ]
  },
  {
   "cell_type": "code",
   "execution_count": 32,
   "metadata": {},
   "outputs": [
    {
     "name": "stdout",
     "output_type": "stream",
     "text": [
      "[[0.5]]\n",
      "[[0.]]\n",
      "[[0.]]\n",
      "[[0.5]]\n"
     ]
    }
   ],
   "source": [
    "M = (1/2)*(v0@v0l) + (1/2)*(v1@v1l)\n",
    "print(v0l@M@v0)\n",
    "print(v0l@M@v1)\n",
    "print(v1l@M@v0)\n",
    "print(v1l@M@v1)\n",
    "# A"
   ]
  },
  {
   "cell_type": "markdown",
   "metadata": {},
   "source": [
    "#### 10"
   ]
  },
  {
   "cell_type": "code",
   "execution_count": 43,
   "metadata": {},
   "outputs": [
    {
     "name": "stdout",
     "output_type": "stream",
     "text": [
      "[[0.5+0.j  0. -0.5j]\n",
      " [0. +0.5j 0.5+0.j ]]\n"
     ]
    }
   ],
   "source": [
    "psi = np.array([[np.sqrt(2)/2],[(np.sqrt(2)/2)*1j]])\n",
    "psil = np.transpose(np.conjugate(psi))\n",
    "print(psi@psil)\n",
    "# E"
   ]
  }
 ],
 "metadata": {
  "interpreter": {
   "hash": "e7370f93d1d0cde622a1f8e1c04877d8463912d04d973331ad4851f04de6915a"
  },
  "kernelspec": {
   "display_name": "Python 3.10.4 64-bit",
   "language": "python",
   "name": "python3"
  },
  "language_info": {
   "codemirror_mode": {
    "name": "ipython",
    "version": 3
   },
   "file_extension": ".py",
   "mimetype": "text/x-python",
   "name": "python",
   "nbconvert_exporter": "python",
   "pygments_lexer": "ipython3",
   "version": "3.10.5"
  },
  "orig_nbformat": 4
 },
 "nbformat": 4,
 "nbformat_minor": 2
}
