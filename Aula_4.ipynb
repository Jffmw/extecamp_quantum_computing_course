{
 "cells": [
  {
   "cell_type": "markdown",
   "metadata": {},
   "source": [
    "# computação Quantica\n",
    "## Aula 4"
   ]
  }
 ],
 "metadata": {
  "language_info": {
   "name": "python"
  },
  "orig_nbformat": 4
 },
 "nbformat": 4,
 "nbformat_minor": 2
}
