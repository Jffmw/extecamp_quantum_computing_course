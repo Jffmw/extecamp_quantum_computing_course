{
 "cells": [
  {
   "cell_type": "code",
   "execution_count": 1,
   "id": "3ca9cda7",
   "metadata": {},
   "outputs": [],
   "source": [
    "# No python a função 'print()' imprime o que estiver dentro dos parenteses '()' na tela"
   ]
  },
  {
   "cell_type": "code",
   "execution_count": 2,
   "id": "6c17edf8",
   "metadata": {},
   "outputs": [],
   "source": [
    "# exemplo, para imprimir 'eu amo física!'"
   ]
  },
  {
   "cell_type": "code",
   "execution_count": 3,
   "id": "4175b64c",
   "metadata": {},
   "outputs": [
    {
     "name": "stdout",
     "output_type": "stream",
     "text": [
      "eu amo física!\n"
     ]
    }
   ],
   "source": [
    "print('eu amo física!')"
   ]
  },
  {
   "cell_type": "code",
   "execution_count": 4,
   "id": "a7c6c70c",
   "metadata": {},
   "outputs": [],
   "source": [
    "# O python instalado já vem com várias capacidades, como imprimir."
   ]
  },
  {
   "cell_type": "code",
   "execution_count": 5,
   "id": "34824747",
   "metadata": {},
   "outputs": [],
   "source": [
    "# Porém, para fazer operações especializadas, é necessário instalar outros 'pacotes'."
   ]
  },
  {
   "cell_type": "code",
   "execution_count": 6,
   "id": "40e44002",
   "metadata": {},
   "outputs": [],
   "source": [
    "# Um desses pacotes permite fazer operações matemáticas avançadas, e se chama 'numpy'."
   ]
  },
  {
   "cell_type": "code",
   "execution_count": 7,
   "id": "ee3d8bb7",
   "metadata": {},
   "outputs": [],
   "source": [
    "# Para usarmos o pacote 'numpy', precisamos importá-lo."
   ]
  },
  {
   "cell_type": "code",
   "execution_count": 8,
   "id": "3820b969",
   "metadata": {},
   "outputs": [],
   "source": [
    "import numpy as np"
   ]
  },
  {
   "cell_type": "code",
   "execution_count": 9,
   "id": "90ca5e99",
   "metadata": {},
   "outputs": [],
   "source": [
    "# Para usar as funções do pacote, usamos a abreviação que definimos 'np', seguida de um ponto."
   ]
  },
  {
   "cell_type": "code",
   "execution_count": 10,
   "id": "dcb1ffe8",
   "metadata": {},
   "outputs": [],
   "source": [
    "# Após esse ponto, especificamos a função que queremos usar: 'np.funçãoQueQueroUsar()'"
   ]
  },
  {
   "cell_type": "code",
   "execution_count": 11,
   "id": "ffcfce85",
   "metadata": {},
   "outputs": [],
   "source": [
    "# A função 'array()', por exemplo, cria uma matriz a partir do que estiver dentro dos parenteses."
   ]
  },
  {
   "cell_type": "code",
   "execution_count": 12,
   "id": "bbba28aa",
   "metadata": {},
   "outputs": [],
   "source": [
    "# A função 'sqrt()' nos devolve a raiz quadrada do que estiver dentro dos parenteses."
   ]
  },
  {
   "cell_type": "code",
   "execution_count": 13,
   "id": "0e1160b4",
   "metadata": {},
   "outputs": [],
   "source": [
    "# Vamos usar o numpy para criar uma matriz quadrada (2 linhas x 2 colunas) \n",
    "\n",
    "# e a salvar na variável 'Sz'"
   ]
  },
  {
   "cell_type": "code",
   "execution_count": 14,
   "id": "5402a021",
   "metadata": {},
   "outputs": [],
   "source": [
    "Sz = np.array([[1,0], [0, -1]])"
   ]
  },
  {
   "cell_type": "code",
   "execution_count": 15,
   "id": "394fe112",
   "metadata": {},
   "outputs": [],
   "source": [
    "# imprimindo a matriz 'Sz'"
   ]
  },
  {
   "cell_type": "code",
   "execution_count": 16,
   "id": "e93dce4a",
   "metadata": {},
   "outputs": [
    {
     "name": "stdout",
     "output_type": "stream",
     "text": [
      "[[ 1  0]\n",
      " [ 0 -1]]\n"
     ]
    }
   ],
   "source": [
    "print(Sz)"
   ]
  },
  {
   "cell_type": "code",
   "execution_count": 17,
   "id": "06bd9517",
   "metadata": {},
   "outputs": [],
   "source": [
    "# Vamos criar uma matriz coluna (vetor) a salvar na variável 'v0'."
   ]
  },
  {
   "cell_type": "code",
   "execution_count": 18,
   "id": "6c62331c",
   "metadata": {},
   "outputs": [],
   "source": [
    "v0 = np.array([[1], [0]])"
   ]
  },
  {
   "cell_type": "code",
   "execution_count": 19,
   "id": "259fb3bc",
   "metadata": {},
   "outputs": [],
   "source": [
    "# imprimindo a matriz salva na variável 'v0'"
   ]
  },
  {
   "cell_type": "code",
   "execution_count": 20,
   "id": "f1063b8e",
   "metadata": {},
   "outputs": [
    {
     "name": "stdout",
     "output_type": "stream",
     "text": [
      "[[1]\n",
      " [0]]\n"
     ]
    }
   ],
   "source": [
    "print(v0)"
   ]
  },
  {
   "cell_type": "code",
   "execution_count": 21,
   "id": "a2247403",
   "metadata": {},
   "outputs": [],
   "source": [
    "# criando outra matriz coluna e a salvando na variável 'v1'"
   ]
  },
  {
   "cell_type": "code",
   "execution_count": 22,
   "id": "c8e1b9cb",
   "metadata": {},
   "outputs": [],
   "source": [
    "v1 = np.array([[0], [1]])"
   ]
  },
  {
   "cell_type": "code",
   "execution_count": 23,
   "id": "401483ac",
   "metadata": {},
   "outputs": [],
   "source": [
    "# imprimindo a matriz salva na variável 'v1'"
   ]
  },
  {
   "cell_type": "code",
   "execution_count": 24,
   "id": "6db56fd2",
   "metadata": {},
   "outputs": [
    {
     "name": "stdout",
     "output_type": "stream",
     "text": [
      "[[0]\n",
      " [1]]\n"
     ]
    }
   ],
   "source": [
    "print(v1)"
   ]
  },
  {
   "cell_type": "code",
   "execution_count": 25,
   "id": "d3775471",
   "metadata": {},
   "outputs": [],
   "source": [
    "# Vamos criar outra matriz quadrada (2 linhas x 2 colunas) e a salvando na variável 'M'"
   ]
  },
  {
   "cell_type": "code",
   "execution_count": 26,
   "id": "ea7cb490",
   "metadata": {},
   "outputs": [],
   "source": [
    "M = np.array([[1,1], [1, -1]])"
   ]
  },
  {
   "cell_type": "code",
   "execution_count": 27,
   "id": "98354488",
   "metadata": {},
   "outputs": [],
   "source": [
    "# imprimindo a matriz M"
   ]
  },
  {
   "cell_type": "code",
   "execution_count": 28,
   "id": "c4a5927d",
   "metadata": {},
   "outputs": [
    {
     "name": "stdout",
     "output_type": "stream",
     "text": [
      "[[ 1  1]\n",
      " [ 1 -1]]\n"
     ]
    }
   ],
   "source": [
    "print(M)"
   ]
  },
  {
   "cell_type": "code",
   "execution_count": 29,
   "id": "ee5963b4",
   "metadata": {},
   "outputs": [],
   "source": [
    "# No Python, podemos dividir uma matriz por um número usando '/' e multiplicar usando '*',\n",
    "\n",
    "# do mesmo modo que fazemos com números"
   ]
  },
  {
   "cell_type": "code",
   "execution_count": 30,
   "id": "b0f31e4b",
   "metadata": {},
   "outputs": [
    {
     "name": "stdout",
     "output_type": "stream",
     "text": [
      "4\n"
     ]
    }
   ],
   "source": [
    "print(2 * 2)"
   ]
  },
  {
   "cell_type": "code",
   "execution_count": 31,
   "id": "630bcebc",
   "metadata": {},
   "outputs": [
    {
     "name": "stdout",
     "output_type": "stream",
     "text": [
      "1.0\n"
     ]
    }
   ],
   "source": [
    "print(2 / 2)"
   ]
  },
  {
   "cell_type": "code",
   "execution_count": 32,
   "id": "7c4b6835",
   "metadata": {},
   "outputs": [
    {
     "name": "stdout",
     "output_type": "stream",
     "text": [
      "[[ 2  2]\n",
      " [ 2 -2]]\n"
     ]
    }
   ],
   "source": [
    "print(M * 2)"
   ]
  },
  {
   "cell_type": "code",
   "execution_count": 33,
   "id": "24cb8ce5",
   "metadata": {},
   "outputs": [
    {
     "name": "stdout",
     "output_type": "stream",
     "text": [
      "[[ 0.5  0.5]\n",
      " [ 0.5 -0.5]]\n"
     ]
    }
   ],
   "source": [
    "print(M / 2)"
   ]
  },
  {
   "cell_type": "code",
   "execution_count": 34,
   "id": "a4dc114d",
   "metadata": {},
   "outputs": [],
   "source": [
    "# Como visto acima, dividir uma matriz por um número\n",
    "\n",
    "# significa dividir todos os seus elementos dessa matriz por esse número.\n",
    "\n",
    "# Multiplicar uma matriz por um número significa multiplicar todos os seus elementos por esse número."
   ]
  },
  {
   "cell_type": "code",
   "execution_count": 35,
   "id": "91613059",
   "metadata": {},
   "outputs": [],
   "source": [
    "# Um exemplo de multiplicação é a chamada operação 'hadamard',\n",
    "\n",
    "# que significa dividir a matriz pela raiz quadrada de 2"
   ]
  },
  {
   "cell_type": "code",
   "execution_count": 36,
   "id": "bda341e2",
   "metadata": {},
   "outputs": [],
   "source": [
    "# Vamos aplicar a operação 'hadamard' na matriz M, e salvar o resultado na matriz 'Had'"
   ]
  },
  {
   "cell_type": "code",
   "execution_count": 37,
   "id": "53837d47",
   "metadata": {},
   "outputs": [],
   "source": [
    "Had = (1/np.sqrt(2)) * M"
   ]
  },
  {
   "cell_type": "code",
   "execution_count": 38,
   "id": "819a341a",
   "metadata": {},
   "outputs": [],
   "source": [
    "# imprimindo a matriz salva na variável 'Had'"
   ]
  },
  {
   "cell_type": "code",
   "execution_count": 39,
   "id": "21e8e821",
   "metadata": {},
   "outputs": [
    {
     "name": "stdout",
     "output_type": "stream",
     "text": [
      "[[ 0.70710678  0.70710678]\n",
      " [ 0.70710678 -0.70710678]]\n"
     ]
    }
   ],
   "source": [
    "print(Had)"
   ]
  },
  {
   "cell_type": "code",
   "execution_count": 40,
   "id": "85cc9de0",
   "metadata": {},
   "outputs": [],
   "source": [
    "# Para multiplicar 2 matrizes, o procedimento é mais complexo."
   ]
  },
  {
   "cell_type": "code",
   "execution_count": 41,
   "id": "b5b72a27",
   "metadata": {},
   "outputs": [],
   "source": [
    "# No Python, usamos o símbolo '@'."
   ]
  },
  {
   "cell_type": "code",
   "execution_count": 42,
   "id": "3c98d80a",
   "metadata": {},
   "outputs": [
    {
     "name": "stdout",
     "output_type": "stream",
     "text": [
      "[[1 0]\n",
      " [0 1]]\n"
     ]
    }
   ],
   "source": [
    "print(Sz@Sz)"
   ]
  },
  {
   "cell_type": "code",
   "execution_count": 43,
   "id": "8d80dc4b",
   "metadata": {},
   "outputs": [],
   "source": [
    "# Atenção, o asterisco '*' é usado para multiplicar um número por uma matriz somente."
   ]
  },
  {
   "cell_type": "code",
   "execution_count": 44,
   "id": "bda6f65b",
   "metadata": {},
   "outputs": [
    {
     "name": "stdout",
     "output_type": "stream",
     "text": [
      "[[ 2  0]\n",
      " [ 0 -2]]\n"
     ]
    }
   ],
   "source": [
    "print(2 * Sz)"
   ]
  },
  {
   "cell_type": "code",
   "execution_count": 45,
   "id": "148c9978",
   "metadata": {},
   "outputs": [],
   "source": [
    "# Não devemos usar o asterisco '*' para multiplicar matrizes."
   ]
  },
  {
   "cell_type": "code",
   "execution_count": 46,
   "id": "cb4b5c08",
   "metadata": {},
   "outputs": [],
   "source": [
    "# Se tentarmos, ocorre uma multiplicação diferente (aᵢⱼ x bᵢⱼ) da que queremos."
   ]
  },
  {
   "cell_type": "code",
   "execution_count": 47,
   "id": "8547da8a",
   "metadata": {},
   "outputs": [],
   "source": [
    "# O problema é que como o Python não retorna erro, mas um resultado errado,\n",
    "\n",
    "# só vamos perceber o erro muitas vezes lá na frente do código."
   ]
  },
  {
   "cell_type": "code",
   "execution_count": 48,
   "id": "e7e4ce0d",
   "metadata": {},
   "outputs": [],
   "source": [
    "# -----------------------------------------------------------------"
   ]
  },
  {
   "cell_type": "code",
   "execution_count": 49,
   "id": "f8aee8c6",
   "metadata": {},
   "outputs": [],
   "source": [
    "# A função para transpor matrizes é a 'transpose()'"
   ]
  },
  {
   "cell_type": "code",
   "execution_count": 50,
   "id": "27938b23",
   "metadata": {},
   "outputs": [],
   "source": [
    "# Lembrando do vetor v0"
   ]
  },
  {
   "cell_type": "code",
   "execution_count": 51,
   "id": "347cf552",
   "metadata": {},
   "outputs": [
    {
     "name": "stdout",
     "output_type": "stream",
     "text": [
      "[[1]\n",
      " [0]]\n"
     ]
    }
   ],
   "source": [
    "print(v0)"
   ]
  },
  {
   "cell_type": "code",
   "execution_count": 52,
   "id": "eb95676b",
   "metadata": {},
   "outputs": [],
   "source": [
    "# Transpondo o vetor v0"
   ]
  },
  {
   "cell_type": "code",
   "execution_count": 53,
   "id": "75d233fb",
   "metadata": {},
   "outputs": [
    {
     "name": "stdout",
     "output_type": "stream",
     "text": [
      "[[1 0]]\n"
     ]
    }
   ],
   "source": [
    "print(np.transpose(v0))"
   ]
  },
  {
   "cell_type": "code",
   "execution_count": 54,
   "id": "e841475a",
   "metadata": {},
   "outputs": [],
   "source": [
    "# Outra particularidade da multiplicação de matrizes\n",
    "\n",
    "# é que a ordem dos fatores altera o produto (não há a propriedade de comutatividade)."
   ]
  },
  {
   "cell_type": "code",
   "execution_count": 55,
   "id": "9998e970",
   "metadata": {},
   "outputs": [],
   "source": [
    "# Por exemplo, ao multiplicarmos um vetor linha por um vetor coluna,"
   ]
  },
  {
   "cell_type": "code",
   "execution_count": 56,
   "id": "d61dc03f",
   "metadata": {},
   "outputs": [],
   "source": [
    "# a ordem da multiplicação altera o resultado final."
   ]
  },
  {
   "cell_type": "code",
   "execution_count": 57,
   "id": "64338fb9",
   "metadata": {},
   "outputs": [],
   "source": [
    "# Por exemplo, vamos salvar o vetor zero 'horizontal' na variável v0_transposto."
   ]
  },
  {
   "cell_type": "code",
   "execution_count": 58,
   "id": "1b2dc889",
   "metadata": {},
   "outputs": [],
   "source": [
    "v0_transposto = np.transpose(v0)"
   ]
  },
  {
   "cell_type": "code",
   "execution_count": 59,
   "id": "bef6f2ac",
   "metadata": {},
   "outputs": [],
   "source": [
    "# Veja como a ordem importa. Multiplicando v0 com v0_transposto:"
   ]
  },
  {
   "cell_type": "code",
   "execution_count": 60,
   "id": "8e912152",
   "metadata": {},
   "outputs": [
    {
     "name": "stdout",
     "output_type": "stream",
     "text": [
      "[[1 0]\n",
      " [0 0]]\n"
     ]
    }
   ],
   "source": [
    "print(v0@v0_transposto)"
   ]
  },
  {
   "cell_type": "code",
   "execution_count": 61,
   "id": "33583b63",
   "metadata": {},
   "outputs": [],
   "source": [
    "# Multiplicando na ordem inversa (veja que o resultado é diferente)"
   ]
  },
  {
   "cell_type": "code",
   "execution_count": 62,
   "id": "ca3f79fc",
   "metadata": {},
   "outputs": [
    {
     "name": "stdout",
     "output_type": "stream",
     "text": [
      "[[1]]\n"
     ]
    }
   ],
   "source": [
    "print(v0_transposto@v0)"
   ]
  },
  {
   "cell_type": "code",
   "execution_count": 63,
   "id": "be71918d",
   "metadata": {},
   "outputs": [],
   "source": [
    "# Regra:'vetor coluna' x 'vetor linha' = 'matriz'"
   ]
  },
  {
   "cell_type": "code",
   "execution_count": 64,
   "id": "3ebe017e",
   "metadata": {},
   "outputs": [],
   "source": [
    "# Regra: 'vetor linha' x 'vetor coluna' = 'número escalar'"
   ]
  },
  {
   "cell_type": "code",
   "execution_count": 65,
   "id": "4289e34d",
   "metadata": {},
   "outputs": [],
   "source": [
    "# -----------------------------------------------------------"
   ]
  },
  {
   "cell_type": "code",
   "execution_count": 66,
   "id": "42337038",
   "metadata": {},
   "outputs": [],
   "source": [
    "# Podemos criar um vetor que seja a combinação linear de outros vetores"
   ]
  },
  {
   "cell_type": "code",
   "execution_count": 67,
   "id": "da1aa625",
   "metadata": {},
   "outputs": [],
   "source": [
    "# Por exemplo, criando um vetor Psi (combinação linear do vetor v0 e do vetor v1)"
   ]
  },
  {
   "cell_type": "code",
   "execution_count": 68,
   "id": "cd3dad17",
   "metadata": {},
   "outputs": [],
   "source": [
    "# Vamos definir Psi como (1/√2 * v0) + (1/√2 * v1)"
   ]
  },
  {
   "cell_type": "code",
   "execution_count": 69,
   "id": "9ce1d774",
   "metadata": {},
   "outputs": [],
   "source": [
    "Psi_na_base_v0_v1 = (1/np.sqrt(2) * v0) + (1/np.sqrt(2) * v1)"
   ]
  },
  {
   "cell_type": "code",
   "execution_count": 70,
   "id": "6b20a59e",
   "metadata": {},
   "outputs": [],
   "source": [
    "# imprimindo o vetor Psi"
   ]
  },
  {
   "cell_type": "code",
   "execution_count": 71,
   "id": "b3287f47",
   "metadata": {},
   "outputs": [
    {
     "name": "stdout",
     "output_type": "stream",
     "text": [
      "[[0.70710678]\n",
      " [0.70710678]]\n"
     ]
    }
   ],
   "source": [
    "print(Psi_na_base_v0_v1)"
   ]
  },
  {
   "cell_type": "code",
   "execution_count": 72,
   "id": "c5070c2d",
   "metadata": {},
   "outputs": [],
   "source": [
    "# Acima, escrevemos o vetor Psi nas bases v0 e v1"
   ]
  },
  {
   "cell_type": "code",
   "execution_count": 73,
   "id": "1856052d",
   "metadata": {},
   "outputs": [],
   "source": [
    "# Mas podemos escrevê-lo em quaisquer outras bases"
   ]
  },
  {
   "cell_type": "code",
   "execution_count": 74,
   "id": "843c51fd",
   "metadata": {},
   "outputs": [],
   "source": [
    "# Por exemplo, vamos definir outro par de bases: va = [0, 2/√2], vb = [3√2, 0]"
   ]
  },
  {
   "cell_type": "code",
   "execution_count": 75,
   "id": "0f4bda34",
   "metadata": {},
   "outputs": [],
   "source": [
    "va = np.array([[0], [2/np.sqrt(2)]])"
   ]
  },
  {
   "cell_type": "code",
   "execution_count": 76,
   "id": "0bc2a4b7",
   "metadata": {},
   "outputs": [],
   "source": [
    "vb = np.array([[3/np.sqrt(2)], [0]])"
   ]
  },
  {
   "cell_type": "code",
   "execution_count": 77,
   "id": "9803b9ad",
   "metadata": {},
   "outputs": [],
   "source": [
    "# Podemos escrever o vetor Psi também como uma combinação linear de 'va' e 'vb'"
   ]
  },
  {
   "cell_type": "code",
   "execution_count": 78,
   "id": "c8a53953",
   "metadata": {},
   "outputs": [],
   "source": [
    "# Psi = (1/2 * va) + (1/3 * vb)"
   ]
  },
  {
   "cell_type": "code",
   "execution_count": 79,
   "id": "137155a4",
   "metadata": {},
   "outputs": [],
   "source": [
    "Psi_na_base_a_b = (1/2 * va) + (1/3 * vb)"
   ]
  },
  {
   "cell_type": "code",
   "execution_count": 80,
   "id": "b5405007",
   "metadata": {},
   "outputs": [
    {
     "name": "stdout",
     "output_type": "stream",
     "text": [
      "[[0.70710678]\n",
      " [0.70710678]]\n"
     ]
    }
   ],
   "source": [
    "print(Psi_na_base_a_b)"
   ]
  },
  {
   "cell_type": "code",
   "execution_count": 81,
   "id": "b8d92a0b",
   "metadata": {},
   "outputs": [],
   "source": [
    "# Qualquer estado quântico representado por um vetor (Psi, no nosso exemplo) \n",
    "\n",
    "# pode ser escrito em qualquer base do seu espaço vetorial\n",
    "\n",
    "# ([vo, v1] ou [va, vb], no nosso por exemplo)."
   ]
  },
  {
   "cell_type": "code",
   "execution_count": 82,
   "id": "29e66ab6",
   "metadata": {},
   "outputs": [],
   "source": [
    "# A base é só uma forma de escrever o vetor. Mas o vetor em si (o estado quântico) é o mesmo,\n",
    "# independentemente se estiver escrito em uma base ou na outra."
   ]
  },
  {
   "cell_type": "code",
   "execution_count": 83,
   "id": "c7af258b",
   "metadata": {},
   "outputs": [],
   "source": [
    "# O que muda é o quanto de cada base precisamos somar para obter aquele vetor."
   ]
  },
  {
   "cell_type": "code",
   "execution_count": 84,
   "id": "17865a1c",
   "metadata": {},
   "outputs": [],
   "source": [
    "# Uma analogia, podemos escrever o número 10 usando as bases [n=2, m=4], assim:\n",
    "# 10 = (1 * n) + (2 * m) = (1 * 2) + (2 * 4) = (2) + (8) = 10.\n",
    "\n",
    "# Agora, usando as bases [n=5, m=5]:\n",
    "# 10 = (1 * n) + (1 * m) = (1 * 5) + (1 * 5) = (5) + (5) = 10.\n",
    "\n",
    "# O que mudou foi o quanto de cada base foi necessária, mas o resultado final (10) foi o mesmo.\n",
    "# Semelhantemente, Psi pode ser escrito como 1/√2 de v1 e 1/√2 de v2, ou 1/2 de va e 1/3 vb."
   ]
  }
 ],
 "metadata": {
  "kernelspec": {
   "display_name": "Python 3 (ipykernel)",
   "language": "python",
   "name": "python3"
  },
  "language_info": {
   "codemirror_mode": {
    "name": "ipython",
    "version": 3
   },
   "file_extension": ".py",
   "mimetype": "text/x-python",
   "name": "python",
   "nbconvert_exporter": "python",
   "pygments_lexer": "ipython3",
   "version": "3.9.5"
  }
 },
 "nbformat": 4,
 "nbformat_minor": 5
}
